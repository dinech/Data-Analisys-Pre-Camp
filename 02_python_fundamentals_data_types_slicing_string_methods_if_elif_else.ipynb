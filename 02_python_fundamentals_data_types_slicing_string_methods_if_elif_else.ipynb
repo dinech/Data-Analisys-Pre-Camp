{
  "nbformat": 4,
  "nbformat_minor": 0,
  "metadata": {
    "colab": {
      "provenance": [],
      "include_colab_link": true
    },
    "kernelspec": {
      "name": "python3",
      "display_name": "Python 3"
    },
    "language_info": {
      "name": "python"
    }
  },
  "cells": [
    {
      "cell_type": "markdown",
      "metadata": {
        "id": "view-in-github",
        "colab_type": "text"
      },
      "source": [
        "<a href=\"https://colab.research.google.com/github/dinech/Data-Analisys-Pre-Camp/blob/main/02_python_fundamentals_data_types_slicing_string_methods_if_elif_else.ipynb\" target=\"_parent\"><img src=\"https://colab.research.google.com/assets/colab-badge.svg\" alt=\"Open In Colab\"/></a>"
      ]
    },
    {
      "cell_type": "markdown",
      "source": [
        "# python fundamentals"
      ],
      "metadata": {
        "id": "jDKBrkOsRajh"
      }
    },
    {
      "cell_type": "markdown",
      "source": [
        "## the `in` operator\n",
        "\n",
        "1. can check if subsequences of strings are inside strings\n",
        "2. can check if items exist in a list"
      ],
      "metadata": {
        "id": "YKEYRznNN0OD"
      }
    },
    {
      "cell_type": "markdown",
      "source": [
        "> in lists, either a full match exists in the list, (and then `in` returns `True`) otherwise --> `False`"
      ],
      "metadata": {
        "id": "KhjypTf4R-PQ"
      }
    },
    {
      "cell_type": "code",
      "execution_count": null,
      "metadata": {
        "colab": {
          "base_uri": "https://localhost:8080/"
        },
        "id": "0iwsoXdqNgFk",
        "outputId": "67ae9c56-8892-4fba-f055-79d05931f2c7"
      },
      "outputs": [
        {
          "output_type": "stream",
          "name": "stdout",
          "text": [
            "False\n",
            "True\n",
            "False\n",
            "False\n"
          ]
        }
      ],
      "source": [
        "fruits = [\"apple\", \"banana\", \"cherry\", \"date\", \"eggplant\"]\n",
        "has_kiwi = \"kiwi\" in fruits # False\n",
        "print(has_kiwi)\n",
        "print(\"apple\" in fruits) # True\n",
        "print(\"APPLE\" in fruits) # False\n",
        "print(\"banan\" in fruits) # False"
      ]
    },
    {
      "cell_type": "markdown",
      "source": [
        "> with `string`s, the `in` operator looks for consequetive substrings within a string - מחרוזת רציפה"
      ],
      "metadata": {
        "id": "zY5IZXq2SG-p"
      }
    },
    {
      "cell_type": "code",
      "source": [
        "quote = \"everything should be as simple as possible\"\n",
        "print(\"should\" in quote) # True\n",
        "print(\"possible\" in quote) # True\n",
        "print(\"kiwi\" in quote) # False\n",
        "print(\"should possible\" in quote) # False\n",
        "print(\"should be\" in quote) # True\n",
        "print(\"possib\" in quote) # True\n",
        "print(\"ould b\" in quote) # True"
      ],
      "metadata": {
        "colab": {
          "base_uri": "https://localhost:8080/"
        },
        "id": "mQPO6A5qSHMR",
        "outputId": "cea1ba50-0873-4fea-8075-1eb0c5a1f714"
      },
      "execution_count": null,
      "outputs": [
        {
          "output_type": "stream",
          "name": "stdout",
          "text": [
            "True\n",
            "True\n",
            "False\n",
            "False\n",
            "True\n",
            "True\n",
            "True\n"
          ]
        }
      ]
    },
    {
      "cell_type": "markdown",
      "source": [
        "# what is an expression?\n",
        "\n",
        "> anything that creates an object --> i.e. you can put in a variable, is an expression\n",
        "\n",
        "- NOTE:\n",
        "  - expressions must ALWAYS be valid python code\n",
        "  - an expression CREATE an object\n",
        "  = you can execute expression WITHOUT putting the result in a variable"
      ],
      "metadata": {
        "id": "jtRIdpizS1Xg"
      }
    },
    {
      "cell_type": "code",
      "source": [
        "x = 3.14  # 3.14 is an expression\n",
        "y = 1+1*2 # 1+1*2 is an expression\n",
        "z = x+y   # x+y is an expression\n",
        "w = \"hello\"[0] # \"hello\"[0] is an expression\n",
        "zzz = \"hello\"[0] + \"hello\"[1] + \"hello\"[2] + \"hello\"[3] + \"hello\"[4]\n",
        "print(zzz)\n",
        "aaa = str(7) # str(7) is an expression\n",
        "print(1+1)   # 1+1 is an expression, also print(1+1) is an expression\n",
        "len(\"hello\") # \"hello\" is an expression, also len(\"hello\") is an expression"
      ],
      "metadata": {
        "colab": {
          "base_uri": "https://localhost:8080/"
        },
        "id": "_YgzKqKBS5e4",
        "outputId": "22517780-7820-4059-bd41-de5b10f2976a"
      },
      "execution_count": null,
      "outputs": [
        {
          "output_type": "stream",
          "name": "stdout",
          "text": [
            "hello\n",
            "2\n"
          ]
        },
        {
          "output_type": "execute_result",
          "data": {
            "text/plain": [
              "5"
            ]
          },
          "metadata": {},
          "execution_count": 14
        }
      ]
    },
    {
      "cell_type": "markdown",
      "source": [
        "## interactive: print last expression in a cell\n",
        "\n",
        "> when using interactive mode (like in jupyter notebook / colab) the interpreter will print the **last** expression in a cell\n",
        "- it will only print the **last** expression\n",
        "\n",
        "examples:\n",
        "- literals\n",
        "- operations between objects (in variables or literals)\n",
        "- calling functions\n",
        "- combinations of the above"
      ],
      "metadata": {
        "id": "0UsSxDRWRp2S"
      }
    },
    {
      "cell_type": "code",
      "source": [
        "1+1"
      ],
      "metadata": {
        "colab": {
          "base_uri": "https://localhost:8080/"
        },
        "id": "tt-6MExMVDYA",
        "outputId": "eb70349e-c2e5-430f-8e54-9b9a7b5cd27a"
      },
      "execution_count": null,
      "outputs": [
        {
          "output_type": "execute_result",
          "data": {
            "text/plain": [
              "2"
            ]
          },
          "metadata": {},
          "execution_count": 15
        }
      ]
    },
    {
      "cell_type": "code",
      "source": [
        "len(\"hello\")"
      ],
      "metadata": {
        "colab": {
          "base_uri": "https://localhost:8080/"
        },
        "id": "Qy1OkAuzVMXg",
        "outputId": "74fb7dfa-9c0c-49af-d533-1b4f646724ee"
      },
      "execution_count": null,
      "outputs": [
        {
          "output_type": "execute_result",
          "data": {
            "text/plain": [
              "5"
            ]
          },
          "metadata": {},
          "execution_count": 16
        }
      ]
    },
    {
      "cell_type": "code",
      "source": [
        "1+1           # will compute the expression, throwing away the result\n",
        "10+90         # will compute the expression, throwing away the result\n",
        "len(\"hello\")  # will compute the expression, throwing away the result\n",
        "1+2+3         # will compute the expression, and print it"
      ],
      "metadata": {
        "colab": {
          "base_uri": "https://localhost:8080/"
        },
        "id": "2ldJ98zhVOyH",
        "outputId": "7e1572ff-5b95-4dfe-bf98-f96538163d19"
      },
      "execution_count": null,
      "outputs": [
        {
          "output_type": "execute_result",
          "data": {
            "text/plain": [
              "6"
            ]
          },
          "metadata": {},
          "execution_count": 17
        }
      ]
    },
    {
      "cell_type": "markdown",
      "source": [
        "# what is a statement?\n",
        "\n",
        "> it is VALID code, that is NOT AN EXPRESSION\n",
        "\n",
        "examples of statements:\n",
        "- if/elif/else statement\n",
        "- for loop (we will learn later)\n",
        "- while loop (we will learn later)\n",
        "- assignment"
      ],
      "metadata": {
        "id": "GSpeLVkgVces"
      }
    },
    {
      "cell_type": "code",
      "source": [
        "x = 1\n",
        "y = 2\n",
        "z = 3\n",
        "# if/else code segment together is a STATEMENT\n",
        "if x+y==z:\n",
        "    print(x, '+', y, '=', z)\n",
        "else:\n",
        "    print(x, '+', y, '!=', z)\n",
        "\n",
        "### you can't put the result of if/else block inside a variable, because it doesnt create a value\n",
        "# www = (\n",
        "#     if x+y==z:\n",
        "#         7\n",
        "#     else:\n",
        "#         10\n",
        "# )"
      ],
      "metadata": {
        "colab": {
          "base_uri": "https://localhost:8080/"
        },
        "id": "xkTyEH7gVwF3",
        "outputId": "64c583a4-3b5a-4be6-d15d-41bec7c8a9e9"
      },
      "execution_count": null,
      "outputs": [
        {
          "output_type": "stream",
          "name": "stdout",
          "text": [
            "1 + 2 = 3\n"
          ]
        }
      ]
    },
    {
      "cell_type": "code",
      "source": [
        "### assignment is a statement, not an expression\n",
        "# y = (x=1) # SyntaxError"
      ],
      "metadata": {
        "id": "eiwtu_ScXC4H"
      },
      "execution_count": null,
      "outputs": []
    },
    {
      "cell_type": "code",
      "source": [
        "x = len(\"hello\") # does not print, because assignment is a statement and not an expression\n",
        "# x # if we uncomment this line, it will print x because x is an expression"
      ],
      "metadata": {
        "id": "evq6a3j7Xd7F"
      },
      "execution_count": null,
      "outputs": []
    },
    {
      "cell_type": "markdown",
      "source": [
        "# methods\n",
        "\n",
        "- until now we learned the following functions: `len`, `print`, `type`\n",
        "  - also the type functions `int(...)`, `float(...)`, ..., `str(...)`\n",
        "\n",
        "**methods** are functions that reside INSIDE a type/object.\n",
        "\n",
        "they are accessible using this notation\n",
        "```python\n",
        "# call the_amazing_method function inside my_object\n",
        "my_object.the_amazing_method(param_1, ..., param_n)\n",
        "```"
      ],
      "metadata": {
        "id": "ANooJCkCOVBg"
      }
    },
    {
      "cell_type": "code",
      "source": [
        "name = \"avi cohen\"\n",
        "uppercase_name = name.upper() # the .upper() method will return a NEW string with all-uppercase letters\n",
        "uppercase_name"
      ],
      "metadata": {
        "colab": {
          "base_uri": "https://localhost:8080/",
          "height": 35
        },
        "id": "-bs9BYwzOZ2Z",
        "outputId": "9a9f2208-9a7b-4495-a9db-2b3bbb1d0335"
      },
      "execution_count": null,
      "outputs": [
        {
          "output_type": "execute_result",
          "data": {
            "text/plain": [
              "'AVI COHEN'"
            ],
            "application/vnd.google.colaboratory.intrinsic+json": {
              "type": "string"
            }
          },
          "metadata": {},
          "execution_count": 35
        }
      ]
    },
    {
      "cell_type": "code",
      "source": [
        "\"HELLO!\".lower() # the .lower() method will return a NEW string with all-lowercase letters"
      ],
      "metadata": {
        "colab": {
          "base_uri": "https://localhost:8080/",
          "height": 35
        },
        "id": "8cvyCBWzZ_ys",
        "outputId": "e44a5b36-7197-4738-b50e-a6dbd7eeea0f"
      },
      "execution_count": null,
      "outputs": [
        {
          "output_type": "execute_result",
          "data": {
            "text/plain": [
              "'hello!'"
            ],
            "application/vnd.google.colaboratory.intrinsic+json": {
              "type": "string"
            }
          },
          "metadata": {},
          "execution_count": 36
        }
      ]
    },
    {
      "cell_type": "code",
      "source": [
        "quote = \"everything should be as simple as possible\"\n",
        "quote.replace('a', '@')"
      ],
      "metadata": {
        "colab": {
          "base_uri": "https://localhost:8080/",
          "height": 35
        },
        "id": "ZJQnVz63aO1u",
        "outputId": "c2d34938-0517-45b5-de44-872e2fc3a228"
      },
      "execution_count": null,
      "outputs": [
        {
          "output_type": "execute_result",
          "data": {
            "text/plain": [
              "'everything should be @s simple @s possible'"
            ],
            "application/vnd.google.colaboratory.intrinsic+json": {
              "type": "string"
            }
          },
          "metadata": {},
          "execution_count": 37
        }
      ]
    },
    {
      "cell_type": "markdown",
      "source": [
        "# string methods\n",
        "\n",
        "> https://docs.python.org/3/library/stdtypes.html#string-methods"
      ],
      "metadata": {
        "id": "LmA1xlAXabH8"
      }
    },
    {
      "cell_type": "markdown",
      "source": [
        "# your turn 1\n",
        "\n",
        "1. ask the user for a number. use the `.isdigit()` method to check that it is an integer number. if it is not a number, tell the user it was a bad string\n",
        "2. use the method `.title()` to convert the name \"avi cohen\" to \"Avi Cohen\"\n",
        "3. discover what the following method does: `.capitalize`\n",
        "4. run the method `.split()` on the string \"everything should be as simple as possible but no simpler\". what did it return? what does the function do ?"
      ],
      "metadata": {
        "id": "pPJBSydiaYRO"
      }
    },
    {
      "cell_type": "code",
      "source": [
        "a=input('give me an integer: ')\n",
        "if a.isdigit():\n",
        "    print(a, 'is a number')\n",
        "else:\n",
        "    print(a, 'is NOT a number')\n",
        "print('avi cohen'.title())\n",
        "print(\"avi cohen\".capitalize())\n",
        "\"everything should be as simple as possible but no simpler\".split()"
      ],
      "metadata": {
        "colab": {
          "base_uri": "https://localhost:8080/"
        },
        "id": "MnWKob4Wreus",
        "outputId": "20b486bd-8a8c-4084-d27c-14e602c0497e"
      },
      "execution_count": null,
      "outputs": [
        {
          "output_type": "stream",
          "name": "stdout",
          "text": [
            "give me an integer: gh\n",
            "gh is NOT a number\n",
            "Avi Cohen\n",
            "Avi cohen\n"
          ]
        },
        {
          "output_type": "execute_result",
          "data": {
            "text/plain": [
              "['everything',\n",
              " 'should',\n",
              " 'be',\n",
              " 'as',\n",
              " 'simple',\n",
              " 'as',\n",
              " 'possible',\n",
              " 'but',\n",
              " 'no',\n",
              " 'simpler']"
            ]
          },
          "metadata": {},
          "execution_count": 2
        }
      ]
    },
    {
      "cell_type": "code",
      "source": [
        "name = \"avi cohen\"\n",
        "# uper_case_name = name[0].upper()\n",
        "# print(uper_case_name)\n",
        "name.title()"
      ],
      "metadata": {
        "colab": {
          "base_uri": "https://localhost:8080/",
          "height": 35
        },
        "id": "U_4pt66ebafe",
        "outputId": "7186d2ab-db9c-4aab-ca89-c040e9cd8a0d"
      },
      "execution_count": null,
      "outputs": [
        {
          "output_type": "execute_result",
          "data": {
            "text/plain": [
              "'Avi Cohen'"
            ],
            "application/vnd.google.colaboratory.intrinsic+json": {
              "type": "string"
            }
          },
          "metadata": {},
          "execution_count": 49
        }
      ]
    },
    {
      "cell_type": "markdown",
      "source": [
        "# solution (your turn 1)\n"
      ],
      "metadata": {
        "id": "CRMQOOM_c6mc"
      }
    },
    {
      "cell_type": "code",
      "source": [
        "# ask the user for a number.\n",
        "# use the .isdigit() method to check that it is an integer number.\n",
        "# if it is not a number, tell the user it was a bad string\n",
        "num = input('give me an integer: ')\n",
        "\n",
        "### solution A\n",
        "# if num.isdigit():\n",
        "#     print(num, 'is a number')\n",
        "# else:\n",
        "#     print(num, 'is NOT a number')\n",
        "\n",
        "### solution B\n",
        "if not num.isdigit():\n",
        "    print(num, 'is NOT a number')"
      ],
      "metadata": {
        "colab": {
          "base_uri": "https://localhost:8080/"
        },
        "id": "g2KhnQOvc9rc",
        "outputId": "3e29fb34-7855-4663-9021-e16e6104a12c"
      },
      "execution_count": null,
      "outputs": [
        {
          "output_type": "stream",
          "name": "stdout",
          "text": [
            "give me an integerasd\n",
            "asd is` NOT a number\n"
          ]
        }
      ]
    },
    {
      "cell_type": "code",
      "source": [
        "# use the method .title() to convert the name \"avi cohen\" to \"Avi Cohen\"\n",
        "result = \"avi cohen\".title()\n",
        "result"
      ],
      "metadata": {
        "colab": {
          "base_uri": "https://localhost:8080/",
          "height": 35
        },
        "id": "5oV7tLmrdG_k",
        "outputId": "1e8d2e37-c851-48d2-ca8d-5b980f64624b"
      },
      "execution_count": null,
      "outputs": [
        {
          "output_type": "execute_result",
          "data": {
            "text/plain": [
              "'Avi Cohen'"
            ],
            "application/vnd.google.colaboratory.intrinsic+json": {
              "type": "string"
            }
          },
          "metadata": {},
          "execution_count": 51
        }
      ]
    },
    {
      "cell_type": "code",
      "source": [
        "# discover what the following method does: .capitalize\n",
        "\"avi cohen\".capitalize() # makes first letter in string a capital letter"
      ],
      "metadata": {
        "colab": {
          "base_uri": "https://localhost:8080/",
          "height": 35
        },
        "id": "Xq393GNLdbnM",
        "outputId": "7a5cedf7-6be3-4ea0-c709-bb54aecaae40"
      },
      "execution_count": null,
      "outputs": [
        {
          "output_type": "execute_result",
          "data": {
            "text/plain": [
              "'Avi cohen'"
            ],
            "application/vnd.google.colaboratory.intrinsic+json": {
              "type": "string"
            }
          },
          "metadata": {},
          "execution_count": 41
        }
      ]
    },
    {
      "cell_type": "code",
      "source": [
        "# run the method .split() on the string\n",
        "# \"everything should be as simple as possible but no simpler\".\n",
        "# what did it return? what does the function do ?\n",
        "quote = \"everything should be as simple as possible but no simpler\"\n",
        "result = quote.split()\n",
        "result # splits the string into words seperated by spaces(and other whitespace)"
      ],
      "metadata": {
        "colab": {
          "base_uri": "https://localhost:8080/"
        },
        "id": "qW6B00cmdii-",
        "outputId": "4144e994-e621-42cb-d097-2608365d2851"
      },
      "execution_count": null,
      "outputs": [
        {
          "output_type": "execute_result",
          "data": {
            "text/plain": [
              "['everything',\n",
              " 'should',\n",
              " 'be',\n",
              " 'as',\n",
              " 'simple',\n",
              " 'as',\n",
              " 'possible',\n",
              " 'but',\n",
              " 'no',\n",
              " 'simpler']"
            ]
          },
          "metadata": {},
          "execution_count": 58
        }
      ]
    },
    {
      "cell_type": "markdown",
      "source": [
        "# your turn 2\n",
        "1. what does the str method `.swapcase` do? try it with this example \"a NOD Is aS good AS a wink to a BLind Bat\"\n",
        "2. the `.replace` method can swap one substring to another substring\n",
        "   > `\"hello\".replace('e', '3') # \"h3llo`\n",
        "\n",
        "   can you use `.replace` to replace all of these\n",
        "   - 'a' with '@'\n",
        "   - 'e' with '3'\n",
        "   - 'i' with '1',\n",
        "   - 'o' with '0' and\n",
        "   - 'u' with `'|_|'`\n",
        "\n",
        "   try with the example `\"the quick brown fox jumped over the lazy dog\"`"
      ],
      "metadata": {
        "id": "Mc1hhPqBbbuX"
      }
    },
    {
      "cell_type": "markdown",
      "source": [
        "# solution (your turn 2)"
      ],
      "metadata": {
        "id": "nc49XzZLdwxN"
      }
    },
    {
      "cell_type": "code",
      "source": [
        "# what does the str method `.swapcase` do?\n",
        "# try it with this example \"a NOD Is aS good AS a wink to a BLind Bat\"\n",
        "\"a NOD Is aS good AS a wink to a BLind Bat\".swapcase() # returns a NEW string with case-swapped letters"
      ],
      "metadata": {
        "colab": {
          "base_uri": "https://localhost:8080/",
          "height": 35
        },
        "id": "SGc0PT_gdzDE",
        "outputId": "bebf7eea-eeba-4949-c544-47e69525c8d5"
      },
      "execution_count": null,
      "outputs": [
        {
          "output_type": "execute_result",
          "data": {
            "text/plain": [
              "'A nod iS As GOOD as A WINK TO A blIND bAT'"
            ],
            "application/vnd.google.colaboratory.intrinsic+json": {
              "type": "string"
            }
          },
          "metadata": {},
          "execution_count": 45
        }
      ]
    },
    {
      "cell_type": "code",
      "source": [
        "# 2\n",
        "### non-solution A\n",
        "# \"hello\".replace(\"aeiou\", \"@310|u|\") # not a solution\n",
        "\n",
        "### non-solution B\n",
        "# \"hello\".replace('e', '3')\n",
        "# \"hello\".replace('a', '@')\n",
        "# \"hello\".replace('o', '0')"
      ],
      "metadata": {
        "id": "SXXyJ4iDn-d8"
      },
      "execution_count": null,
      "outputs": []
    },
    {
      "cell_type": "code",
      "source": [
        "# 2 the .replace method\n",
        "quote = \"the quick brown fox jumped over the lazy dog\"\n",
        "\n",
        "# solution A\n",
        "q = quote\n",
        "q = q.replace('e', '3')\n",
        "q = q.replace('a', '@')\n",
        "q = q.replace('i', '1')\n",
        "q = q.replace('o', '0')\n",
        "q = q.replace('u', '|_|')\n",
        "print(q)\n",
        "\n",
        "# solution B\n",
        "result = quote.replace('e', '3').replace('a', '@').replace('i', '1').replace('o', '0').replace('u', '|_|')\n",
        "print(result)\n",
        "\n",
        "\n",
        "# solution C\n",
        "result = quote.replace(\n",
        "        'e', '3'\n",
        "    ).replace(\n",
        "        'a', '@'\n",
        "    ).replace(\n",
        "        'i', '1'\n",
        "    ).replace(\n",
        "        'o', '0'\n",
        "    ).replace(\n",
        "        'u', '|_|'\n",
        "    )\n",
        "\n",
        "print(result)"
      ],
      "metadata": {
        "colab": {
          "base_uri": "https://localhost:8080/"
        },
        "id": "X4sCz9iReCim",
        "outputId": "7bdbd7fc-6de0-4b44-f530-03f4ed2f92db"
      },
      "execution_count": null,
      "outputs": [
        {
          "output_type": "stream",
          "name": "stdout",
          "text": [
            "th3 q|_|1ck br0wn f0x j|_|mp3d 0v3r th3 l@zy d0g\n",
            "th3 q|_|1ck br0wn f0x j|_|mp3d 0v3r th3 l@zy d0g\n",
            "th3 q|_|1ck br0wn f0x j|_|mp3d 0v3r th3 l@zy d0g\n"
          ]
        }
      ]
    },
    {
      "cell_type": "markdown",
      "source": [],
      "metadata": {
        "id": "bPnfV1Iepf74"
      }
    },
    {
      "cell_type": "markdown",
      "source": [
        "# Your turn 3\n",
        "\n",
        "### Exercise 1: Using the `in` Operator\n",
        "**Objective:** Understand how to use the `in` operator with strings and lists.\n",
        "1. **Check for Substring**:\n",
        "   - Create a string variable `sentence = \"Look before you leap\"`.\n",
        "   - Check if the substring \"before\" is in `sentence`.\n",
        "   - Print the result.\n",
        "\n",
        "2. **Check for Item in List**:\n",
        "   - Create a list `colors = [\"red\", \"blue\", \"green\"]`.\n",
        "   - Check if \"blue\" is in `colors`.\n",
        "   - Print the result.\n",
        "   - Check if \"yellow\" is in `colors`.\n",
        "   - Print the result.\n",
        "\n",
        "### Exercise 2: Understanding Expressions\n",
        "**Objective:** Identify and create valid expressions.\n",
        "1. **Create and Evaluate Expressions**:\n",
        "   - Write an expression that adds 5 and 3 and multiplies the result by 2.\n",
        "   - Assign the expression to a variable `result`.\n",
        "   - Print `result`.\n",
        "\n",
        "2. **Function Calls as Expressions**:\n",
        "   - Use the `len()` function to find the length of the string \"Hello, world!\".\n",
        "   - Check if this length is greater than 10 using an expression.\n",
        "   - Print the result.\n",
        "\n",
        "### Exercise 3: Using if-else Statements:\n",
        "- Create a variable score = 75.\n",
        "- Write an if-else statement to check if score is greater than or equal to 50.\n",
        "- If true, print \"Pass\".\n",
        "- Otherwise, print \"Fail\".\n",
        "- now use `input()` function to get the grade from the user\n",
        "- again check for pass or fail (**hint**: what is the `type` of the return value of `input()`?)\n",
        "\n",
        "### Exercise 4: Exploring String Methods\n",
        "**Objective:** Practice using different string methods.\n",
        "1. **Manipulating Strings**:\n",
        "   - Create a string `greeting = \"hello, world\"`.\n",
        "   - Convert `greeting` to uppercase using `.upper()` and print the result.\n",
        "   - Replace \"world\" with \"Python\" in `greeting` and print the result.\n",
        "\n",
        "2. **Chain String Methods**:\n",
        "   - Using the string `\"   messy   \"`, strip the whitespace, then replace \"messy\" with \"clean\", and convert to uppercase in one line of code.\n",
        "   - Print the result.\n"
      ],
      "metadata": {
        "id": "lfzj5u4Wl4yV"
      }
    },
    {
      "cell_type": "code",
      "source": [
        "sentence = \"Look before you leap\"\n",
        "print('before' in sentence)\n",
        "len(\"Hello, world!\")>10\n",
        "score=int(input('enter your score: '))\n",
        "if score>=50:\n",
        "    print('pass')\n",
        "else:\n",
        "    print('fail')\n",
        "greeting = \"hello, world\"\n",
        "greeting.replace(\"world\", \"Python\")\n",
        "\" messy \".strip().replace(\"messy\", \"clean\").upper()"
      ],
      "metadata": {
        "colab": {
          "base_uri": "https://localhost:8080/",
          "height": 87
        },
        "id": "t0pw98UXvvNh",
        "outputId": "dd588aa1-a4b7-4ee0-83cd-ea1288da6a93"
      },
      "execution_count": null,
      "outputs": [
        {
          "output_type": "stream",
          "name": "stdout",
          "text": [
            "True\n",
            "enter your score: 9\n",
            "fail\n"
          ]
        },
        {
          "output_type": "execute_result",
          "data": {
            "text/plain": [
              "'CLEAN'"
            ],
            "application/vnd.google.colaboratory.intrinsic+json": {
              "type": "string"
            }
          },
          "metadata": {},
          "execution_count": 14
        }
      ]
    },
    {
      "cell_type": "markdown",
      "source": [
        "# solution"
      ],
      "metadata": {
        "id": "BOLMyKClpOlJ"
      }
    },
    {
      "cell_type": "code",
      "source": [
        "# Exercise 1: Using the `in` Operator\n",
        "\n",
        "# Check for Substring\n",
        "sentence = \"Look before you leap\"  # Create a string variable\n",
        "result = 'before' in sentence  # Check if the substring 'before' is in the sentence\n",
        "print(result)  # Print the result (True)\n",
        "\n",
        "# Check for Item in List\n",
        "colors = [\"red\", \"blue\", \"green\"]  # Create a list of colors\n",
        "print('blue' in colors)  # Check if 'blue' is in the list and print the result (True)\n",
        "print('yellow' in colors)  # Check if 'yellow' is in the list and print the result (False)\n"
      ],
      "metadata": {
        "colab": {
          "base_uri": "https://localhost:8080/"
        },
        "id": "NppZB8dJmYSx",
        "outputId": "d801192e-51b4-4037-9188-206a16a624a8"
      },
      "execution_count": null,
      "outputs": [
        {
          "output_type": "stream",
          "name": "stdout",
          "text": [
            "True\n",
            "True\n",
            "False\n"
          ]
        }
      ]
    },
    {
      "cell_type": "code",
      "source": [
        "# Exercise 2: Understanding Expressions\n",
        "\n",
        "# Create and Evaluate Expressions\n",
        "result = (5 + 3) * 2  # Add 5 and 3, then multiply the result by 2\n",
        "print(result)  # Print the result (16)\n",
        "\n",
        "# Function Calls as Expressions\n",
        "length = len(\"Hello, world!\")  # Use len() function to find the length of the string\n",
        "print(length > 10)  # Check if this length is greater than 10 and print the result (True)\n"
      ],
      "metadata": {
        "colab": {
          "base_uri": "https://localhost:8080/"
        },
        "id": "vvP0mo6apP45",
        "outputId": "a85b8c23-0e3b-42c0-f14e-f42ce9a996b6"
      },
      "execution_count": null,
      "outputs": [
        {
          "output_type": "stream",
          "name": "stdout",
          "text": [
            "16\n",
            "True\n"
          ]
        }
      ]
    },
    {
      "cell_type": "code",
      "source": [
        "# Exercise 3: Using if-else Statements\n",
        "\n",
        "score = 75  # Create a variable with a score\n",
        "if score >= 50:  # Check if score is greater than or equal to 50\n",
        "    print(\"Pass\")  # If condition is true, print 'Pass'\n",
        "else:\n",
        "    print(\"Fail\")  # If condition is false, print 'Fail'\n",
        "\n",
        "# Incorporating user input\n",
        "grade = int(input(\"Enter your score: \"))  # Get score from user and convert to integer\n",
        "if grade >= 50:  # Check if the score is greater than or equal to 50\n",
        "    print(\"Pass\")  # If true, print 'Pass'\n",
        "else:\n",
        "    print(\"Fail\")  # Otherwise, print 'Fail'\n"
      ],
      "metadata": {
        "colab": {
          "base_uri": "https://localhost:8080/"
        },
        "id": "ZS8Kc-kOpRN4",
        "outputId": "08b08f3b-46d3-457a-a0a3-50ba3df3ff32"
      },
      "execution_count": null,
      "outputs": [
        {
          "output_type": "stream",
          "name": "stdout",
          "text": [
            "Pass\n",
            "Enter your score: 100\n",
            "Pass\n"
          ]
        }
      ]
    },
    {
      "cell_type": "code",
      "source": [
        "# Exercise 4: Exploring String Methods\n",
        "\n",
        "# Manipulating Strings\n",
        "greeting = \"hello, world\"  # Create a string\n",
        "print(greeting.upper())  # Convert the string to uppercase and print it ('HELLO, WORLD')\n",
        "print(greeting.replace(\"world\", \"Python\"))  # Replace 'world' with 'Python' in the string and print it ('hello, Python')\n",
        "\n",
        "# Chain String Methods\n",
        "result = \"   messy   \".strip().replace(\"messy\", \"clean\").upper()  # Strip, replace, and convert to uppercase\n",
        "print(result)  # Print the result ('CLEAN')\n"
      ],
      "metadata": {
        "colab": {
          "base_uri": "https://localhost:8080/"
        },
        "id": "BzJ5rVgipSR8",
        "outputId": "e99281ff-655e-4f83-dd79-272e64d66cdd"
      },
      "execution_count": null,
      "outputs": [
        {
          "output_type": "stream",
          "name": "stdout",
          "text": [
            "HELLO, WORLD\n",
            "hello, Python\n",
            "CLEAN\n"
          ]
        }
      ]
    },
    {
      "cell_type": "markdown",
      "metadata": {
        "id": "aGQCslE2Zplt"
      },
      "source": [
        "## Common operations"
      ]
    },
    {
      "cell_type": "markdown",
      "metadata": {
        "id": "z3kDHw8gZplt"
      },
      "source": [
        "Like any data type, strings support several operations. Being sequences as well, strings support also sequence operations.\n",
        "\n",
        "* Sequence types: (`str` and `list` are sequences)\n",
        "    * the `len()` function - returns the length of the sequence\n",
        "    * the `in` operator - test whether an element is within the sequence\n",
        "    * the `+` operator - concatenation of two sequences of the same type\n",
        "    * the `index()` method - returns the index of an element within the sequence\n",
        "    * the `count()` method - counts the number of occurrences of an element within the sequence\n",
        "* Strings\n",
        "    * the method `replace(old, new)` - returns a new string in which all the occurrences of `old` are replaced with `new`\n",
        "    * the method `find(sub)` - returns the index of sub within a given string. Returns -1 if `sub` is not in the calling string.\n",
        "    * the methods `upper()` and `lower()` - return a new string with the same letters as the original, but with all the letters in uppercase or lowercase\n"
      ]
    },
    {
      "cell_type": "code",
      "source": [
        "#    0123456789012345678\n",
        "q = \"everything should be as simple as possible\"\n",
        "q.index('be') # 8\n",
        "\n",
        "words = q.split()\n",
        "#               0             1         2\n",
        "print(words) # ['everything', 'should', 'be', 'as', 'simple', 'as', 'possible']\n",
        "words.index(\"be\") # 2\n",
        "q = \"everything should be as simple as possible\"\n"
      ],
      "metadata": {
        "colab": {
          "base_uri": "https://localhost:8080/",
          "height": 193
        },
        "id": "9RVB7jLgOo-x",
        "outputId": "66e2bb4d-7df8-44d4-c8ab-9035cd85572c"
      },
      "execution_count": null,
      "outputs": [
        {
          "output_type": "stream",
          "name": "stdout",
          "text": [
            "['everything', 'should', 'be', 'as', 'simple', 'as', 'possible']\n"
          ]
        },
        {
          "output_type": "error",
          "ename": "AttributeError",
          "evalue": "'list' object has no attribute 'find'",
          "traceback": [
            "\u001b[0;31m---------------------------------------------------------------------------\u001b[0m",
            "\u001b[0;31mAttributeError\u001b[0m                            Traceback (most recent call last)",
            "\u001b[0;32m<ipython-input-17-2039e21bf503>\u001b[0m in \u001b[0;36m<cell line: 10>\u001b[0;34m()\u001b[0m\n\u001b[1;32m      8\u001b[0m \u001b[0mwords\u001b[0m\u001b[0;34m.\u001b[0m\u001b[0mindex\u001b[0m\u001b[0;34m(\u001b[0m\u001b[0;34m\"be\"\u001b[0m\u001b[0;34m)\u001b[0m \u001b[0;31m# 2\u001b[0m\u001b[0;34m\u001b[0m\u001b[0;34m\u001b[0m\u001b[0m\n\u001b[1;32m      9\u001b[0m \u001b[0mq\u001b[0m \u001b[0;34m=\u001b[0m \u001b[0;34m\"everything should be as simple as possible\"\u001b[0m\u001b[0;34m\u001b[0m\u001b[0;34m\u001b[0m\u001b[0m\n\u001b[0;32m---> 10\u001b[0;31m \u001b[0mwords\u001b[0m\u001b[0;34m.\u001b[0m\u001b[0mfind\u001b[0m\u001b[0;34m(\u001b[0m\u001b[0;34m'be'\u001b[0m\u001b[0;34m)\u001b[0m\u001b[0;34m\u001b[0m\u001b[0;34m\u001b[0m\u001b[0m\n\u001b[0m",
            "\u001b[0;31mAttributeError\u001b[0m: 'list' object has no attribute 'find'"
          ]
        }
      ]
    },
    {
      "cell_type": "code",
      "source": [
        "q.index(\"be as simple\")     # 18\n",
        "# words.index(\"be as simple\") # ValueError: 'be as simple' is not in list"
      ],
      "metadata": {
        "colab": {
          "base_uri": "https://localhost:8080/",
          "height": 193
        },
        "id": "Tm8-iWhFrDVQ",
        "outputId": "958e479c-0dda-4863-a6e8-c4b7aecd7e33"
      },
      "execution_count": null,
      "outputs": [
        {
          "output_type": "error",
          "ename": "ValueError",
          "evalue": "ignored",
          "traceback": [
            "\u001b[0;31m---------------------------------------------------------------------------\u001b[0m",
            "\u001b[0;31mValueError\u001b[0m                                Traceback (most recent call last)",
            "\u001b[0;32m<ipython-input-77-d5b33bdb292d>\u001b[0m in \u001b[0;36m<cell line: 2>\u001b[0;34m()\u001b[0m\n\u001b[1;32m      1\u001b[0m \u001b[0mq\u001b[0m\u001b[0;34m.\u001b[0m\u001b[0mindex\u001b[0m\u001b[0;34m(\u001b[0m\u001b[0;34m\"be as simple\"\u001b[0m\u001b[0;34m)\u001b[0m     \u001b[0;31m# 18\u001b[0m\u001b[0;34m\u001b[0m\u001b[0;34m\u001b[0m\u001b[0m\n\u001b[0;32m----> 2\u001b[0;31m \u001b[0mwords\u001b[0m\u001b[0;34m.\u001b[0m\u001b[0mindex\u001b[0m\u001b[0;34m(\u001b[0m\u001b[0;34m\"be as simple\"\u001b[0m\u001b[0;34m)\u001b[0m\u001b[0;34m\u001b[0m\u001b[0;34m\u001b[0m\u001b[0m\n\u001b[0m",
            "\u001b[0;31mValueError\u001b[0m: 'be as simple' is not in list"
          ]
        }
      ]
    },
    {
      "cell_type": "markdown",
      "source": [
        "# your turn (homework)\n",
        "\n",
        "> https://docs.python.org/3/library/stdtypes.html#string-methods\n",
        "\n",
        "1. discover what the method `.count()` does\n",
        "   - for strings\n",
        "   - for lists\n",
        "2. discover what the method find does. how does it differ from `.index` ?"
      ],
      "metadata": {
        "id": "5kQg6VW3rcfm"
      }
    },
    {
      "cell_type": "markdown",
      "source": [],
      "metadata": {
        "id": "DRMqjY2lOpeA"
      }
    },
    {
      "cell_type": "markdown",
      "metadata": {
        "id": "9hY3WvHzZpmk"
      },
      "source": [
        "## multi-lines string\n",
        "\n",
        "String can also be wrapped with three characters, using either single-quote or double-quote, allowing to write text with quotes and new lines as you normally do:"
      ]
    },
    {
      "cell_type": "markdown",
      "source": [
        "> motivation:"
      ],
      "metadata": {
        "id": "3q9LMjtitZ2t"
      }
    },
    {
      "cell_type": "code",
      "source": [
        "### syntax error: unterminated string\n",
        "# best_song_ever = \"Yeah yeah yeah yeah yeah\n",
        "# Yeah yeah yeah yeah yeah yeah\n",
        "# I think I did it again\n",
        "# I made you believe we're more than just friends\n",
        "# Oh baby\n",
        "# It might seem like a crush\n",
        "# But it doesn't mean that I'm serious\n",
        "# 'Cause to lose all my senses\n",
        "# That is just so typically me\n",
        "# Oh baby, baby\"\n",
        "\n",
        "# print(best_song_ever)"
      ],
      "metadata": {
        "id": "-TvxfnJNs8m0"
      },
      "execution_count": null,
      "outputs": []
    },
    {
      "cell_type": "code",
      "source": [
        "best_song_ever = \"\"\"Yeah yeah yeah yeah yeah\n",
        "Yeah yeah yeah yeah yeah yeah\n",
        "\n",
        "I think I did it again\n",
        "I made you believe we're more than just friends\n",
        "    Oh baby\n",
        "It might seem like a crush\n",
        "But it doesn't mean that I'm serious\n",
        "'Cause to lose all my senses\n",
        "That is just so typically me\n",
        "Oh baby, baby\"\"\"\n",
        "\n",
        "print(best_song_ever)"
      ],
      "metadata": {
        "colab": {
          "base_uri": "https://localhost:8080/"
        },
        "id": "jEppE61itcvz",
        "outputId": "4806ada4-15b7-461c-a8c0-79fb5fd33598"
      },
      "execution_count": null,
      "outputs": [
        {
          "output_type": "stream",
          "name": "stdout",
          "text": [
            "Yeah yeah yeah yeah yeah\n",
            "Yeah yeah yeah yeah yeah yeah\n",
            "\n",
            "I think I did it again\n",
            "I made you believe we're more than just friends\n",
            "    Oh baby\n",
            "It might seem like a crush\n",
            "But it doesn't mean that I'm serious\n",
            "'Cause to lose all my senses\n",
            "That is just so typically me\n",
            "Oh baby, baby\n"
          ]
        }
      ]
    },
    {
      "cell_type": "code",
      "metadata": {
        "id": "oZTeYe1FZpmk",
        "colab": {
          "base_uri": "https://localhost:8080/"
        },
        "outputId": "5740c502-f201-45b9-fa9d-2f66dcadb202"
      },
      "source": [
        "text = '''A String warpped with triple quotes can extend over\n",
        "multiple lines like this one, and can contain 'single'\n",
        "and \"double\" quotes without using string literals.'''\n",
        "\n",
        "print(text)"
      ],
      "execution_count": null,
      "outputs": [
        {
          "output_type": "stream",
          "name": "stdout",
          "text": [
            "A String warpped with triple quotes can extend over\n",
            "multiple lines like this one, and can contain 'single'\n",
            "and \"double\" quotes without using string literals.\n"
          ]
        }
      ]
    },
    {
      "cell_type": "markdown",
      "metadata": {
        "id": "6FALV8qNZpmK"
      },
      "source": [
        "## String literals"
      ]
    },
    {
      "cell_type": "markdown",
      "metadata": {
        "id": "nFzesHVZZpmL"
      },
      "source": [
        "String literals are auxiliary strings that allow to use characters which are either invisible or raise technical issues when used. To symbolize these characters, you havee to use  the backslash **escape character** (\\\\). The full list of string literals can be found [here][String literals], and the following are the most common:\n",
        "\n",
        "* \\\\n - New line\n",
        "* \\\\t - Tab\n",
        "* \\\\' - Single quote\n",
        "* \\\\\" - Double quote\n",
        "* \\\\\\\\ - Backslash\n",
        "* other less important escape codes:\n",
        "  - \\b - backspace\n",
        "  - \\a - ping!\n",
        "  - \\r - carriage return - back to the beginning of line\n",
        "\n",
        "[String literals]: https://docs.python.org/3/reference/lexical_analysis.html#literals \"Python documentation for string literals\""
      ]
    },
    {
      "cell_type": "markdown",
      "metadata": {
        "id": "uwiJl8OFYL0t"
      },
      "source": [
        "> **Note:** The escape character is part of the string."
      ]
    },
    {
      "cell_type": "markdown",
      "metadata": {
        "id": "JflZeRDkYlM1"
      },
      "source": [
        "### Illustrations"
      ]
    },
    {
      "cell_type": "code",
      "metadata": {
        "id": "kXCScrSDZpmO",
        "colab": {
          "base_uri": "https://localhost:8080/"
        },
        "outputId": "f0216b92-2297-4a2e-ffe7-ee2cdf7ac0ac"
      },
      "source": [
        "print('First line.\\nSecond line.')"
      ],
      "execution_count": null,
      "outputs": [
        {
          "output_type": "stream",
          "name": "stdout",
          "text": [
            "First line.\n",
            "Second line.\n"
          ]
        }
      ]
    },
    {
      "cell_type": "code",
      "source": [
        "print('the גרש character is\\' ')"
      ],
      "metadata": {
        "colab": {
          "base_uri": "https://localhost:8080/"
        },
        "id": "mN6PDdTxu1IE",
        "outputId": "177ae626-a1c6-4287-d968-a38388938f86"
      },
      "execution_count": null,
      "outputs": [
        {
          "output_type": "stream",
          "name": "stdout",
          "text": [
            "the גרש character is' \n"
          ]
        }
      ]
    },
    {
      "cell_type": "code",
      "source": [
        "print('two important letters are geresh \\' and gershaim \\\" , awesome!')"
      ],
      "metadata": {
        "colab": {
          "base_uri": "https://localhost:8080/"
        },
        "id": "8FYUVQyvvDhG",
        "outputId": "9ca1bd5a-9a55-4fbe-9335-00c763ee7cd7"
      },
      "execution_count": null,
      "outputs": [
        {
          "output_type": "stream",
          "name": "stdout",
          "text": [
            "two important letters are geresh ' and gershaim \" , awesome!\n"
          ]
        }
      ]
    },
    {
      "cell_type": "code",
      "source": [
        "print('Israel : Jerusalem\\nSpain : ?\\n')\n",
        "print('(a) Paris (b) Rome (c) Madrid (d) Berlin')"
      ],
      "metadata": {
        "colab": {
          "base_uri": "https://localhost:8080/"
        },
        "id": "hLB9bgWtwILO",
        "outputId": "34a1bce7-c61f-46b2-f3ac-8ccec7e0c162"
      },
      "execution_count": null,
      "outputs": [
        {
          "output_type": "stream",
          "name": "stdout",
          "text": [
            "Israel : Jerusalem\n",
            "Spain : ?\n",
            "\n",
            "(a) Paris (b) Rome (c) Madrid (d) Berlin\n"
          ]
        }
      ]
    },
    {
      "cell_type": "code",
      "metadata": {
        "id": "qB1uuqOOZpmR",
        "colab": {
          "base_uri": "https://localhost:8080/"
        },
        "outputId": "59299128-cdcd-48c2-a8b8-a5e18810c96f"
      },
      "source": [
        "print('Israel\\t:\\tJerusalem\\nSpain\\t:\\t?\\n')\n",
        "print('(a) Paris\\t(b) Rome\\t(c) Madrid\\t(d) Berlin')"
      ],
      "execution_count": null,
      "outputs": [
        {
          "output_type": "stream",
          "name": "stdout",
          "text": [
            "Israel\t:\tJerusalem\n",
            "Spain\t:\t?\n",
            "\n",
            "(a) Paris\t(b) Rome\t(c) Madrid\t(d) Berlin\n"
          ]
        }
      ]
    },
    {
      "cell_type": "code",
      "metadata": {
        "id": "tVsp96fwZpmW",
        "colab": {
          "base_uri": "https://localhost:8080/"
        },
        "outputId": "6a80ec78-af01-4a82-9d75-729e0cb1550b"
      },
      "source": [
        "print('He is John')\n",
        "print('He\\'s John')"
      ],
      "execution_count": null,
      "outputs": [
        {
          "output_type": "stream",
          "name": "stdout",
          "text": [
            "He is John\n",
            "He's John\n"
          ]
        }
      ]
    },
    {
      "cell_type": "markdown",
      "metadata": {
        "id": "63Swk4ElZpmZ"
      },
      "source": [
        "The existance of two string wrappers enables the following trick..."
      ]
    },
    {
      "cell_type": "code",
      "metadata": {
        "id": "YeTsK29PZpma",
        "colab": {
          "base_uri": "https://localhost:8080/"
        },
        "outputId": "8510de7f-07ff-4854-b91a-9f8fa444ffb6"
      },
      "source": [
        "print('And god said: There was light')\n",
        "print('And god said: \\\"There was light\\\"')\n",
        "#print (\"And god said: \"There was light\"\")  # This raises an error\n",
        "print('And god said: \"There was light\"')"
      ],
      "execution_count": null,
      "outputs": [
        {
          "output_type": "stream",
          "name": "stdout",
          "text": [
            "And god said: There was light\n",
            "And god said: \"There was light\"\n",
            "And god said: \"There was light\"\n"
          ]
        }
      ]
    },
    {
      "cell_type": "markdown",
      "metadata": {
        "id": "MTqOqctGUq7G"
      },
      "source": [
        "> **Your turn:** Take the last string (`'And god said: \"There was light\"'`) and extract god's saying."
      ]
    },
    {
      "cell_type": "code",
      "source": [
        "sentence = 'And god said: \"There was light\"'\n",
        "\n",
        "i_start = sentence.index('\"T') +1\n",
        "i_end = sentence.index('t\"') + 1\n",
        "\n",
        "print(sentence[i_start:i_end])"
      ],
      "metadata": {
        "colab": {
          "base_uri": "https://localhost:8080/"
        },
        "id": "Bu1mLuCBQ8MZ",
        "outputId": "077fd091-9cf1-4205-e0d0-6d6124b16a6c"
      },
      "execution_count": null,
      "outputs": [
        {
          "output_type": "stream",
          "name": "stdout",
          "text": [
            "There was light\n"
          ]
        }
      ]
    },
    {
      "cell_type": "markdown",
      "metadata": {
        "id": "VsOs69KvZpmc"
      },
      "source": [
        "String literals are characters like any other."
      ]
    },
    {
      "cell_type": "code",
      "metadata": {
        "id": "OXzdU0lyZpme",
        "colab": {
          "base_uri": "https://localhost:8080/"
        },
        "outputId": "75f4b444-7854-4dc5-ae4d-138e43018edd"
      },
      "source": [
        "len('a\\nb')"
      ],
      "execution_count": null,
      "outputs": [
        {
          "output_type": "execute_result",
          "data": {
            "text/plain": [
              "3"
            ]
          },
          "metadata": {},
          "execution_count": 55
        }
      ]
    },
    {
      "cell_type": "markdown",
      "metadata": {
        "id": "cFJCM2eZcVnA"
      },
      "source": [
        "> **Your turn:** Print the following text in a more readable fashion with proper newlines and tabs."
      ]
    },
    {
      "cell_type": "code",
      "metadata": {
        "id": "R18-eDMUurYI",
        "colab": {
          "base_uri": "https://localhost:8080/"
        },
        "outputId": "5a297cd4-40f4-441a-9f0c-cd4be167b9a8"
      },
      "source": [
        "s = 'Sunday: visitors: 20, unique: 13, Monday: visitors: 25, unique: 14, Tuesday: visitors: 31, unique: 19'\n",
        "print(s)"
      ],
      "execution_count": null,
      "outputs": [
        {
          "output_type": "stream",
          "name": "stdout",
          "text": [
            "Sunday: visitors: 20, unique: 13, Monday: visitors: 25, unique: 14, Tuesday: visitors: 31, unique: 19\n"
          ]
        }
      ]
    },
    {
      "cell_type": "markdown",
      "source": [
        "# slicing\n",
        "\n",
        "> motivation:\n",
        "  - I want the first 20 letters of a string\n",
        "  - I want the last 3 things on a list\n",
        "  - I need every 7th task on a list\n",
        "\n",
        "syntax:\n",
        "```python\n",
        "my_sequence[:]    # everything\n",
        "my_sequence[:end] # from 0 until end, step=1\n",
        "my_sequence[start:] # until end, step=1\n",
        "my_sequence[start:end] # step=1\n",
        "my_sequence[start:end:step]\n",
        "```\n",
        "\n",
        "- **note:** it will go from `start` to `end` - but `end` is NOT INCLUSIVE"
      ],
      "metadata": {
        "id": "lD7dP8sZwV9H"
      }
    },
    {
      "cell_type": "code",
      "source": [
        "# examples\n",
        "#    012345678901234567890\n",
        "q = \"everything should be as simple as possible but no simpler\"\n",
        "print(q[0:20]) # everything should be\n",
        "print(q[:20])  # everything should be\n",
        "print(q[20:len(q)])  #  as simple as possible but no simpler\n",
        "print(q[20:])  #  as simple as possible but no simpler\n",
        "print(q[20:])  #  as simple as possible but no simpler\n",
        "print(q[:-7])  #  everything should be as simple as possible but no\n",
        "print(q[0:len(q):2]) # every second letter\n",
        "print(q[::2]) # every second letter\n",
        "print(q[-1:0:-1])  # (almost) reverse string\n",
        "print(q[::-1])     # reverse string\n",
        "print(q[-1::-1])   # ALSO reverse string"
      ],
      "metadata": {
        "colab": {
          "base_uri": "https://localhost:8080/"
        },
        "id": "8UFShR_ewXCj",
        "outputId": "1cbba201-6031-4ef6-8771-b10973cfa4f1"
      },
      "execution_count": null,
      "outputs": [
        {
          "output_type": "stream",
          "name": "stdout",
          "text": [
            "everything should be\n",
            "everything should be\n",
            " as simple as possible but no simpler\n",
            " as simple as possible but no simpler\n",
            " as simple as possible but no simpler\n",
            "everything should be as simple as possible but no \n",
            "eeyhn hudb ssml spsil u osmlr\n",
            "eeyhn hudb ssml spsil u osmlr\n",
            "relpmis on tub elbissop sa elpmis sa eb dluohs gnihtyrev\n",
            "relpmis on tub elbissop sa elpmis sa eb dluohs gnihtyreve\n",
            "relpmis on tub elbissop sa elpmis sa eb dluohs gnihtyreve\n"
          ]
        }
      ]
    },
    {
      "cell_type": "code",
      "source": [
        "# why end is non-inclusive?\n",
        "i = 18\n",
        "print(q[:i] + q[i:]) # no need to write i+1\n",
        "print(q[0:len(q)])   # no need to write len(q)-1"
      ],
      "metadata": {
        "colab": {
          "base_uri": "https://localhost:8080/"
        },
        "id": "W_M4bSrEyrK6",
        "outputId": "c22a2869-bf49-45bc-f38a-8cde77c28b29"
      },
      "execution_count": null,
      "outputs": [
        {
          "output_type": "stream",
          "name": "stdout",
          "text": [
            "everything should be as simple as possible but no simpler\n",
            "everything should be as simple as possible but no simpler\n"
          ]
        }
      ]
    },
    {
      "cell_type": "markdown",
      "source": [
        "# your turn\n",
        "\n",
        "1. use `.split` to create a list of words from this sentence `\"I played with your heart got lost in the game\"`\n",
        "2. print the first word\n",
        "3. print the last word\n",
        "4. print the first 5 words\n",
        "5. print the last 5 words\n",
        "6. print every other (every second) word starting with word 0\n",
        "6. print every other (every second) word starting with word 1\n",
        "7. print the first 3 letter of the second word\n",
        "7. print the last 2 letters of the last word\n",
        "\n"
      ],
      "metadata": {
        "id": "5JHwo_iczgX2"
      }
    },
    {
      "cell_type": "code",
      "source": [
        "s=\"I played with your heart got lost in the game\".split()\n",
        "print(s[0:5])\n",
        "print(s[-5:])\n",
        "print(s[::2])\n",
        "print(s[1::2])\n",
        "s[1][:3]\n",
        "s[-1][-2:]"
      ],
      "metadata": {
        "colab": {
          "base_uri": "https://localhost:8080/",
          "height": 104
        },
        "id": "5TNKfgSwxFhK",
        "outputId": "860fbe82-c085-47b6-915b-31a0efc7dbd2"
      },
      "execution_count": null,
      "outputs": [
        {
          "output_type": "stream",
          "name": "stdout",
          "text": [
            "['I', 'played', 'with', 'your', 'heart']\n",
            "['got', 'lost', 'in', 'the', 'game']\n",
            "['I', 'with', 'heart', 'lost', 'the']\n",
            "['played', 'your', 'got', 'in', 'game']\n"
          ]
        },
        {
          "output_type": "execute_result",
          "data": {
            "text/plain": [
              "'me'"
            ],
            "application/vnd.google.colaboratory.intrinsic+json": {
              "type": "string"
            }
          },
          "metadata": {},
          "execution_count": 23
        }
      ]
    },
    {
      "cell_type": "markdown",
      "source": [
        "# solution"
      ],
      "metadata": {
        "id": "5QvlxcY80GWa"
      }
    },
    {
      "cell_type": "code",
      "source": [
        "# use .split to create a list of words from this sentence \"I played with your heart got lost in the game\"\n",
        "q = \"I played with your heart got lost in the game\"\n",
        "words = q.split()\n",
        "print(words)\n",
        "\n",
        "# print the first word\n",
        "print(q[0])\n",
        "\n",
        "# print the last word\n",
        "print(q[-1])\n",
        "\n",
        "# print the first 5 words\n",
        "print(words[:5])\n",
        "\n",
        "# print the last 5 words\n",
        "print(words[-5:])\n",
        "\n",
        "# print every other (every second) word starting with word 0\n",
        "print(words[::2])\n",
        "\n",
        "# print every other (every second) word starting with word 1\n",
        "print(words[1::2])\n",
        "\n",
        "# print the first 3 letter of the second word\n",
        "print(words[1][:3])\n",
        "\n",
        "# print the last 2 letters of the last word\n",
        "print(words[-1][-2:])"
      ],
      "metadata": {
        "colab": {
          "base_uri": "https://localhost:8080/"
        },
        "id": "CCiPcgezy20U",
        "outputId": "e085f049-cb9e-4716-d66a-51b279b6b6b2"
      },
      "execution_count": null,
      "outputs": [
        {
          "output_type": "stream",
          "name": "stdout",
          "text": [
            "['I', 'played', 'with', 'your', 'heart', 'got', 'lost', 'in', 'the', 'game']\n",
            "I\n",
            "e\n",
            "['I', 'played', 'with', 'your', 'heart']\n",
            "['got', 'lost', 'in', 'the', 'game']\n",
            "['I', 'with', 'heart', 'lost', 'the']\n",
            "['played', 'your', 'got', 'in', 'game']\n",
            "pla\n",
            "me\n"
          ]
        }
      ]
    },
    {
      "cell_type": "markdown",
      "source": [
        "# if/else expression (nice to have)\n",
        "\n",
        ">example\n",
        "\n",
        "```python\n",
        "result = \"ok\" if money>0 else \"oops\"\n",
        "print(result)\n",
        "```\n",
        "\n",
        "> syntax\n",
        "\n",
        "```python\n",
        "EXPRESSION if CONDITION else OTHER_EXPRESSION\n",
        "```\n",
        "\n",
        "> if/else statement\n",
        "\n",
        "```python\n",
        "if CONDITION:\n",
        "    ... # statement 1\n",
        "    ... # statement 2\n",
        "    ...\n",
        "else:\n",
        "    ... # more statements\n",
        "    ... #\n",
        "    ... #\n"
      ],
      "metadata": {
        "id": "2KaVaHv16Zh8"
      }
    },
    {
      "cell_type": "code",
      "source": [
        "# money = 1000\n",
        "money = -500\n",
        "result = \"ok\" if money>0 else \"oops\"\n",
        "print(result)"
      ],
      "metadata": {
        "colab": {
          "base_uri": "https://localhost:8080/"
        },
        "id": "GBSE4KXu0Ycq",
        "outputId": "fdf426c7-6427-4c20-bd50-852190978352"
      },
      "execution_count": null,
      "outputs": [
        {
          "output_type": "stream",
          "name": "stdout",
          "text": [
            "oops\n"
          ]
        }
      ]
    },
    {
      "cell_type": "markdown",
      "source": [
        "# if/elif/else statement\n",
        "\n",
        "```python\n",
        "if CONDITION_1:\n",
        "    ...\n",
        "    ...\n",
        "elif CONDITION_2: # elif is optional: 0+ times\n",
        "    ...\n",
        "    ...\n",
        "elif CONDITION_3:\n",
        "    ...\n",
        "    ...\n",
        "# optionally more elif\n",
        "else: # else is optional: 0/1 times\n",
        "    ...\n",
        "    ...\n",
        "    ...\n",
        "```"
      ],
      "metadata": {
        "id": "PrUwC7M17ReK"
      }
    },
    {
      "cell_type": "code",
      "source": [
        "print('start')\n",
        "2\tage = int(input(\"what is your age? \"))\n",
        "3\tif age<18:\n",
        "4\t    print('child')\n",
        "5\telif age<30:\n",
        "6\t    print('20 something')\n",
        "7\telif age<40:\n",
        "8\t    print('30 something')\n",
        "9\telse:\n",
        "10\t    print('40+ or older')\n",
        "11\n",
        "12\tprint('done')"
      ],
      "metadata": {
        "colab": {
          "base_uri": "https://localhost:8080/"
        },
        "id": "DCjdc91j3WEC",
        "outputId": "be703841-bf97-4204-ce40-27a200b15bcc"
      },
      "execution_count": null,
      "outputs": [
        {
          "output_type": "stream",
          "name": "stdout",
          "text": [
            "what is your age? 50\n",
            "40+ or older\n"
          ]
        }
      ]
    },
    {
      "cell_type": "code",
      "source": [
        "# ONLY ONE condition is allowed to be executed\n",
        "if 1+1==2:\n",
        "    print('A')\n",
        "elif 2+2==4:\n",
        "    print('B')\n",
        "elif 3+3==6:\n",
        "    print('C')\n",
        "else:\n",
        "    print('D')"
      ],
      "metadata": {
        "colab": {
          "base_uri": "https://localhost:8080/"
        },
        "id": "sVFqG6Mt9LA4",
        "outputId": "6d5efa93-ce2e-4b30-9104-2c185a535eeb"
      },
      "execution_count": null,
      "outputs": [
        {
          "output_type": "stream",
          "name": "stdout",
          "text": [
            "A\n"
          ]
        }
      ]
    },
    {
      "cell_type": "code",
      "source": [
        "# here EVERY CORRECT condition is allowed to be executed\n",
        "if 1+1==2:\n",
        "    print('A')\n",
        "if 2+2==4:\n",
        "    print('B')\n",
        "if 3+3==6:\n",
        "    print('C')\n",
        "\n",
        "print('D')"
      ],
      "metadata": {
        "colab": {
          "base_uri": "https://localhost:8080/"
        },
        "id": "VLFxbFQa9VhL",
        "outputId": "2a96cbba-5371-4f27-fe82-42f4ba4b430d"
      },
      "execution_count": null,
      "outputs": [
        {
          "output_type": "stream",
          "name": "stdout",
          "text": [
            "A\n",
            "B\n",
            "C\n",
            "D\n"
          ]
        }
      ]
    },
    {
      "cell_type": "markdown",
      "source": [
        "# sidetrack: using an online debugger:\n",
        "> [pythontutor.com](https://pythontutor.com/python-compiler.html)\n",
        "\n",
        "please run the previous example in python tutor [here](https://pythontutor.com/render.html#code=print%28'start'%29%0Aage%20%3D%20int%28input%28%22what%20is%20your%20age%3F%20%22%29%29%0Aif%20age%3C18%3A%0A%20%20%20%20print%28'child'%29%0Aelif%20age%3C30%3A%0A%20%20%20%20print%28'20%20something'%29%0Aelif%20age%3C40%3A%0A%20%20%20%20print%28'30%20something'%29%0Aelse%3A%0A%20%20%20%20print%28'40%2B%20or%20older'%29%0A%20%20%20%20%0Aprint%28'done'%29&cumulative=false&curInstr=4&heapPrimitives=nevernest&mode=display&origin=opt-frontend.js&py=3&rawInputLstJSON=%5B%222%22%5D&textReferences=false)\n",
        "\n"
      ],
      "metadata": {
        "id": "M3O5kpsc8IKJ"
      }
    },
    {
      "cell_type": "markdown",
      "source": [
        "### Exercises:\n",
        "\n",
        "#### 🌶️\n",
        "1. Create a variable `greeting` with the value \"Hello World!\" and print it.\n",
        "2. Find the length of `greeting`.\n",
        "3. Print the first and last character of `greeting`.\n",
        "\n",
        "#### 🌶️🌶️\n",
        "1. Create a variable `famous_sketch` with the value \"The Dead Parrot Sketch\" and print it in reverse order.\n",
        "2. Slice `famous_sketch` to print only \"Dead Parrot\".\n",
        "3. Create a variable `number` with the value 4.5, and convert it to an integer.\n",
        "\n",
        "#### 🌶️🌶️🌶️\n",
        "1. Create a variable `monty_quote` with the value \"And now for something completely different\" and find the index of the word \"different\".\n",
        "2. Replace the word \"different\" in `monty_quote` with \"silly\".\n",
        "3. Create two variables `first_half` and `second_half` to store the halves of `monty_quote` and print them.\n",
        "\n",
        "#### 🌶️🌶️🌶️🌶️\n",
        "1. (Hint: use the `str.splitlines()` method) Create a string `multi_line` with the value \"Line1\\nLine2\\nLine3\". Use the `splitlines` method to split `multi_line` into a list of lines and print the first word of each line.\n",
        "2. (Hint: use the `str.join()` method) Take the list of lines from the previous exercise, join them into a single string with a space as the separator, and print it.\n"
      ],
      "metadata": {
        "id": "bu6EGBc66D6x"
      }
    },
    {
      "cell_type": "code",
      "source": [
        " famous_sketch = \"The Dead Parrot Sketch\"\n",
        " print (famous_sketch[0], famous_sketch[-1])\n",
        " print(famous_sketch[4:-7])\n",
        " print(famous_sketch[-1::-1])\n",
        "\n",
        " monty_quote = \"And now for something completely different\"\n",
        " print(monty_quote.replace(\"different\",'silly'))\n",
        " print(len(monty_quote)//2)\n",
        " print(monty_quote[:len(monty_quote)//2])\n",
        " print(monty_quote[len(monty_quote)//2:])\n",
        " monty_quote1=monty_quote[:len(monty_quote)//2]\n",
        " monty_quote2=monty_quote[len(monty_quote)//2:]\n",
        " print(monty_quote1 + monty_quote2)\n",
        " st=\"Line1\\nLine2\\nLine3\"\n",
        "l= st.splitlines()\n",
        "print(l[0][0])\n",
        "print(l[1][0])\n",
        "print(l[2][0])\n",
        "print(l[0].join(l[2]))"
      ],
      "metadata": {
        "colab": {
          "base_uri": "https://localhost:8080/"
        },
        "id": "9RbS1WfpAB9i",
        "outputId": "513cac6d-9a3c-4353-ab2a-25548c6ebbcb"
      },
      "execution_count": null,
      "outputs": [
        {
          "output_type": "stream",
          "name": "stdout",
          "text": [
            "T h\n",
            "Dead Parrot\n",
            "hctekS torraP daeD ehT\n",
            "And now for something completely silly\n",
            "21\n",
            "And now for something\n",
            " completely different\n",
            "And now for something completely different\n",
            "L\n",
            "L\n",
            "L\n",
            "LLine1iLine1nLine1eLine13\n"
          ]
        }
      ]
    },
    {
      "cell_type": "markdown",
      "source": [
        "# solution"
      ],
      "metadata": {
        "id": "5omLSa_J-jMG"
      }
    },
    {
      "cell_type": "code",
      "source": [
        "# 🌶️\n",
        "# 1. Create a variable `greeting` with the value \"Hello World!\" and print it.\n",
        "greeting = \"Hello World!\"\n",
        "print(greeting)\n",
        "\n",
        "# 2. Find the length of `greeting`.\n",
        "print(len(greeting))\n",
        "\n",
        "# 3. Print the first and last character of `greeting`.\n",
        "print(greeting[0], greeting[-1])"
      ],
      "metadata": {
        "colab": {
          "base_uri": "https://localhost:8080/"
        },
        "id": "XEkb2vqY-k9P",
        "outputId": "0e6e1eb9-dc04-4db0-a16a-a6c939d88805"
      },
      "execution_count": null,
      "outputs": [
        {
          "output_type": "stream",
          "name": "stdout",
          "text": [
            "Hello World!\n",
            "12\n",
            "H !\n"
          ]
        }
      ]
    },
    {
      "cell_type": "code",
      "source": [
        "# 🌶️🌶️\n",
        "# 1. Create a variable `famous_sketch` with the value \"The Dead Parrot Sketch\" and print it in reverse order.\n",
        "famous_sketch = \"The Dead Parrot Sketch\"\n",
        "print(famous_sketch[::-1])\n",
        "\n",
        "# 2. Slice `famous_sketch` to print only \"Dead Parrot\".\n",
        "print(famous_sketch[4:15])\n",
        "\n",
        "# 3. Create a variable `number` with the value 4.5, and convert it to an integer.\n",
        "number = 4.5\n",
        "print(int(number))\n"
      ],
      "metadata": {
        "colab": {
          "base_uri": "https://localhost:8080/"
        },
        "id": "BOVqLbV5-x9g",
        "outputId": "128e22f8-99f7-4980-adc6-365ff5d76722"
      },
      "execution_count": null,
      "outputs": [
        {
          "output_type": "stream",
          "name": "stdout",
          "text": [
            "hctekS torraP daeD ehT\n",
            "Dead Parrot\n",
            "4\n"
          ]
        }
      ]
    },
    {
      "cell_type": "code",
      "source": [
        "# 🌶️🌶️🌶️\n",
        "# 1. Create a variable `monty_quote` with the value \"And now for something completely different\" and find the index of the word \"different\".\n",
        "monty_quote = \"And now for something completely different\"\n",
        "print(monty_quote.index(\"different\"))\n",
        "\n",
        "# 2. Replace the word \"different\" in `monty_quote` with \"silly\".\n",
        "print(monty_quote.replace(\"different\", \"silly\"))\n",
        "\n",
        "# 3. Create two variables `first_half` and `second_half` to store the halves of `monty_quote` and print them.\n",
        "half = len(monty_quote) // 2 # NOTE! this is an int\n",
        "first_half = monty_quote[:half]\n",
        "second_half = monty_quote[half:]\n",
        "print(first_half, second_half)"
      ],
      "metadata": {
        "id": "JMb5iCa5_Wh1"
      },
      "execution_count": null,
      "outputs": []
    },
    {
      "cell_type": "code",
      "source": [
        "# 🌶️🌶️🌶️🌶️\n",
        "# 1. (Hint: use the `str.splitlines()` method) Create a string `multi_line` with the value \"Line1\\nLine2\\nLine3\". Use the `splitlines` method to split `multi_line` into a list of lines and print the first word of each line.\n",
        "multi_line = \"Line1\\nLine2\\nLine3\"\n",
        "lines = multi_line.splitlines()\n",
        "print(lines[0].split()[0])\n",
        "print(lines[1].split()[0])\n",
        "print(lines[2].split()[0])\n",
        "# for line in lines:\n",
        "#     print(line.split()[0])\n",
        "\n",
        "# 2. (Hint: use the `str.join()` method) Take the list of lines from the previous exercise, join them into a single string with a space as the separator, and print it.\n",
        "print(' '.join(lines))"
      ],
      "metadata": {
        "colab": {
          "base_uri": "https://localhost:8080/"
        },
        "id": "I2Ak7yvR_jd2",
        "outputId": "d1916958-e196-4511-e8e8-a9dd87fa7aae"
      },
      "execution_count": null,
      "outputs": [
        {
          "output_type": "stream",
          "name": "stdout",
          "text": [
            "Line1\n",
            "Line2\n",
            "Line3\n",
            "Line1 Line2 Line3\n"
          ]
        }
      ]
    },
    {
      "cell_type": "markdown",
      "source": [
        "# Password Strength Checker Exercise:\n",
        "\n",
        "A good password **typically** adheres to the following criteria to ensure security:\n",
        "\n",
        "1. It is at least 8 characters long.\n",
        "2. It has both uppercase and lowercase characters.\n",
        "3. It includes at least one numerical digit.\n",
        "4. It contains at least one special character, such as @, #, $, %, &, *, or !.\n",
        "5. It is not a commonly used password like \"password\", \"123456\", or \"qwerty\", \"secret\", \"nothing\".\n",
        "\n",
        "Let's validate a password based on these criteria.\n",
        "\n",
        "for each task, check the validty of the password based on just 1 criterion and put the result in the variable `is_valid`\n",
        "\n",
        "**🌶️ Criterion 1: Length Check**  \n",
        "- Check if the password is at least 8 characters long.\n",
        "\n",
        "**🌶️🌶️🌶️ Criterion 2: Uppercase Check**  \n",
        "- Check if the password contains at least one uppercase character.  \n",
        "  > hint: what happens if you convert to lowercase? altenatively, what does .islower() do?\n",
        "  - make sure you try with several example strings\n",
        "\n",
        "**🌶️🌶️🌶️ Criterion 3: Lowercase Check**  \n",
        "- Check if the password contains at least one lowercase character.  \n",
        "  > hint: what happens if you convert to uppercase? altenatively, what does .isupper() do?\n",
        "  - make sure you try with several example strings\n",
        "\n",
        "**🌶️🌶️ Criterion 4: Common Password Check**  \n",
        "- Check if the password is not a commonly used password like \"password\", \"123456\", or \"qwerty\", \"secret\", \"nothing\".\n",
        "\n",
        "**🌶️🌶️ Criterion 5: Non-Alphanumeric Check**  \n",
        "- Check if the password does not contain any non-alphanumeric characters.  \n",
        "  *Hint: The `str.isalnum()` method checks if all characters are alphanumeric.*\n",
        "\n",
        "**🌶️🌶️ Criterion 6: ONLY digits Check**  \n",
        "- Check if the password is not ONLY digits.  \n",
        "  *Hint: The `str.isdigit()` method checks if all characters are digits.*\n",
        "\n",
        "**🌶️🌶️🌶️ Criterion 7: not just letters Check**  \n",
        "- Check if the password has characters which are not alphabetical.  \n",
        "  > hint: maybe some method will help you\n",
        "\n",
        "### BONUS ADVANCED CHALLENGE: requires loops or `set` - SOLUTIONS **NOT** provided\n",
        "**🌶️🌶️🌶️🌶️ Criterion A: Has Digits Check**  \n",
        "- Check if the password contains at least one numerical digit.  \n",
        "  *Hint: The `any()` function along with `str.isdigit()` might come in handy.*\n",
        "\n",
        "**🌶️🌶️🌶️🌶️ Criterion B: Special Character Check**  \n",
        "- Check if the password contains at least one special character (e.g., @, #, $, %, &, *, or !).  \n",
        "  *Hint: You could use a loop or to check each character or use the `any()` function with a comprehension or use `set`.*\n",
        "\n",
        "**🌶️🌶️🌶️🌶️ Criterion C: Repetitive Character Check**  \n",
        "- Check if the password does not have any repetitive characters or sequences.  \n",
        "  *Hint: This is challenging. You might need to use loops to check each character and the character next to it for repetition.*\n",
        "\n",
        "Each of these criteria tackles a different aspect of password strength and can be verified independently before moving on to the next part of the exercise."
      ],
      "metadata": {
        "id": "0jr9sdlQFtrU"
      }
    },
    {
      "cell_type": "code",
      "source": [
        "pas=input(\"enter password\")\n",
        "is_valid=len(pas)>=8\n",
        "is_valid=pas.upper()!=pas\n",
        "is_valid=pas.lower()!=pas\n",
        "common=[ \"password\", \"123456\", \"qwerty\", \"secret\", \"nothing\"]\n",
        "is_valid=pas not in common\n",
        "is_valid !=pas.isalnum()\n",
        "is_valid !=pas.isdigit()\n",
        "is_valid!=pas.isalpha()\n",
        "is_valid"
      ],
      "metadata": {
        "id": "FMuqo-3xN4Lb",
        "colab": {
          "base_uri": "https://localhost:8080/"
        },
        "outputId": "d30aec01-9eda-4e8e-8ee4-43e129dffed9"
      },
      "execution_count": null,
      "outputs": [
        {
          "name": "stdout",
          "output_type": "stream",
          "text": [
            "enter passwordgfyhjgjkjlldsa\n"
          ]
        },
        {
          "output_type": "execute_result",
          "data": {
            "text/plain": [
              "False"
            ]
          },
          "metadata": {},
          "execution_count": 23
        }
      ]
    },
    {
      "cell_type": "code",
      "source": [
        "pas=''\n",
        "is_valid=pas.isdigit().any()\n",
        "is_valid"
      ],
      "metadata": {
        "colab": {
          "base_uri": "https://localhost:8080/",
          "height": 176
        },
        "id": "18UICQVrdAKC",
        "outputId": "c816318c-4e3b-40b8-fff1-5bc219350069"
      },
      "execution_count": null,
      "outputs": [
        {
          "output_type": "error",
          "ename": "AttributeError",
          "evalue": "'bool' object has no attribute 'any'",
          "traceback": [
            "\u001b[0;31m---------------------------------------------------------------------------\u001b[0m",
            "\u001b[0;31mAttributeError\u001b[0m                            Traceback (most recent call last)",
            "\u001b[0;32m<ipython-input-25-42f9f1f30c17>\u001b[0m in \u001b[0;36m<cell line: 2>\u001b[0;34m()\u001b[0m\n\u001b[1;32m      1\u001b[0m \u001b[0mpas\u001b[0m\u001b[0;34m=\u001b[0m\u001b[0;34m''\u001b[0m\u001b[0;34m\u001b[0m\u001b[0;34m\u001b[0m\u001b[0m\n\u001b[0;32m----> 2\u001b[0;31m \u001b[0mis_valid\u001b[0m\u001b[0;34m=\u001b[0m\u001b[0mpas\u001b[0m\u001b[0;34m.\u001b[0m\u001b[0misdigit\u001b[0m\u001b[0;34m(\u001b[0m\u001b[0;34m)\u001b[0m\u001b[0;34m.\u001b[0m\u001b[0many\u001b[0m\u001b[0;34m(\u001b[0m\u001b[0;34m)\u001b[0m\u001b[0;34m\u001b[0m\u001b[0;34m\u001b[0m\u001b[0m\n\u001b[0m\u001b[1;32m      3\u001b[0m \u001b[0mis_valid\u001b[0m\u001b[0;34m\u001b[0m\u001b[0;34m\u001b[0m\u001b[0m\n",
            "\u001b[0;31mAttributeError\u001b[0m: 'bool' object has no attribute 'any'"
          ]
        }
      ]
    },
    {
      "cell_type": "markdown",
      "source": [
        "# solution"
      ],
      "metadata": {
        "id": "ISsiu0b0Jcfz"
      }
    },
    {
      "cell_type": "code",
      "source": [
        "# Define the password\n",
        "password = 'StrongP@ssw0rd'\n",
        "\n",
        "# 🌶️ Criterion 1: Length Check\n",
        "length_check = len(password) >= 8\n",
        "\n",
        "# 🌶️🌶️🌶️ Criterion 2: Uppercase Check\n",
        "uppercase_check = (password != password.lower())\n",
        "# alternative\n",
        "uppercase_check = not password.islower()\n",
        "\n",
        "# 🌶️🌶️🌶️ Criterion 3: Lowercase Check\n",
        "lowercase_check = (password != password.upper())\n",
        "# alternative\n",
        "uppercase_check = not password.upper()\n",
        "\n",
        "# 🌶️🌶️ Criterion 4: Common Password Check\n",
        "common_passwords = [\"password\", \"123456\", \"qwerty\"]\n",
        "common_password_check = password.lower() not in common_passwords\n",
        "\n",
        "# 🌶️🌶️ Criterion 5: Non-Alphanumeric Check\n",
        "non_alnum_check = not password.isalnum()\n",
        "\n",
        "# 🌶️🌶️ Criterion 6: ONLY digits Check\n",
        "only_digits_check = not password.isdigit()\n",
        "\n",
        "# 🌶️🌶️🌶️ Criterion 7: not just letters Check\n",
        "not_just_letters_check = not password.isalpha()\n"
      ],
      "metadata": {
        "id": "nEMFueMD6Fqy"
      },
      "execution_count": null,
      "outputs": []
    },
    {
      "cell_type": "markdown",
      "source": [
        "# Exercised (Continued)\n",
        "\n",
        "check a password for validity, using the criterions you implemented in previous exercise\n",
        "\n",
        "1. **Password Validity Check**  \n",
        "   - Determine if the provided password meets all the specified criteria. just print `'valid'` or `'invalid'`\n",
        "\n",
        "2. **First Invalidity Reason**  \n",
        "   - If the password is invalid, identify and print the first criterion it fails to meet.\n",
        "\n",
        "3. **All Invalidity Reasons**  \n",
        "   - If the password is invalid, list and print **ALL** the criteria it fails to meet."
      ],
      "metadata": {
        "id": "Bj44pzA0M8Ay"
      }
    },
    {
      "cell_type": "code",
      "source": [],
      "metadata": {
        "id": "hN94HoZVN3Vv"
      },
      "execution_count": null,
      "outputs": []
    },
    {
      "cell_type": "markdown",
      "source": [
        "# solution"
      ],
      "metadata": {
        "id": "J6dsMbMyN1PA"
      }
    },
    {
      "cell_type": "code",
      "source": [
        "# Given password\n",
        "password = \"YourPassword123!\"\n",
        "\n",
        "# 1. Password Validity Check\n",
        "is_valid = len(password) >= 8 and (password != password.lower()) and (password != password.upper())\n",
        "\n",
        "if is_valid:\n",
        "    print('valid')\n",
        "else:\n",
        "    print('invalid')\n",
        "\n",
        "# 2. First Invalidity Reason\n",
        "if len(password) < 8:\n",
        "    print('Password is too short')\n",
        "elif password == password.lower():\n",
        "    print('Password needs at least one uppercase character')\n",
        "elif password == password.upper():\n",
        "    print('Password needs at least one lowercase character')\n",
        "\n",
        "# 3. All Invalidity Reasons\n",
        "if len(password) < 8:\n",
        "    print('Password is too short')\n",
        "if password == password.lower():\n",
        "    print('Password needs at least one uppercase character')\n",
        "if password == password.upper():\n",
        "    print('Password needs at least one lowercase character')\n"
      ],
      "metadata": {
        "id": "rJ6RTuk5Jdxa"
      },
      "execution_count": null,
      "outputs": []
    }
  ]
}